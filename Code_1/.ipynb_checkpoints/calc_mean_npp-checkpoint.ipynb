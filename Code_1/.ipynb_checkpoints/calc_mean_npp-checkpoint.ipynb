{
 "cells": [
  {
   "cell_type": "code",
   "execution_count": 1,
   "metadata": {
    "collapsed": false
   },
   "outputs": [
    {
     "name": "stdout",
     "output_type": "stream",
     "text": [
      "2.7.11 |Anaconda custom (x86_64)| (default, Dec  6 2015, 18:57:58) \n",
      "[GCC 4.2.1 (Apple Inc. build 5577)]\n",
      "/Users/Eric/anaconda/envs/python27/bin/python\n"
     ]
    }
   ],
   "source": [
    "import sys\n",
    "print(sys.version)\n",
    "print(sys.executable)\n",
    "import PIL"
   ]
  },
  {
   "cell_type": "code",
   "execution_count": 2,
   "metadata": {
    "collapsed": false
   },
   "outputs": [],
   "source": [
    "import ee\n",
    "ee.Initialize()\n",
    "import ee.mapclient\n",
    "from IPython.display import Image\n",
    "import matplotlib.pyplot as plt"
   ]
  },
  {
   "cell_type": "code",
   "execution_count": 3,
   "metadata": {
    "collapsed": true
   },
   "outputs": [],
   "source": [
    "#Load datasets\n",
    "states = ee.FeatureCollection('ft:1fRY18cjsHzDgGiJiS2nnpUU3v9JPDc2HNaR7Xk8');\n",
    "minnesota = states.filterMetadata('Name', 'equals', 'Minnesota');\n",
    "units = ee.FeatureCollection('ft:1gdhQYMZe31QgEbrmHArQUECKdVssmvR2tqhM03_i');\n",
    "modis = ee.ImageCollection('MODIS/055/MOD17A3');"
   ]
  },
  {
   "cell_type": "code",
   "execution_count": 4,
   "metadata": {
    "collapsed": false
   },
   "outputs": [],
   "source": [
    "# Select npp band and clip with Minnesota shape\n",
    "npp = modis.select(['Npp'])\n",
    "def clipped(img):\n",
    "  return img.clip(minnesota)\n",
    "npp_minnesota = npp.map(clipped);"
   ]
  },
  {
   "cell_type": "code",
   "execution_count": 5,
   "metadata": {
    "collapsed": false
   },
   "outputs": [],
   "source": [
    "aaa = npp_minnesota.mean()"
   ]
  },
  {
   "cell_type": "code",
   "execution_count": 6,
   "metadata": {
    "collapsed": false
   },
   "outputs": [],
   "source": [
    "mean_values = lambda img: ee.Feature(None, {'mean': img.reduceRegion('mean', minnesota, 10000)})\n",
    "mapped_results = ee.FeatureCollection(npp_minnesota.map(mean_values))"
   ]
  },
  {
   "cell_type": "code",
   "execution_count": null,
   "metadata": {
    "collapsed": false
   },
   "outputs": [],
   "source": [
    "#!/usr/bin/env python\n",
    "ee.mapclient.centerMap(40, 40, 5)\n",
    "\n",
    "## Create a Landsat 7, median-pixel composite for Spring of 2000.\n",
    "#collection = (ee.ImageCollection('LE7_L1T')\n",
    "#              .filterDate(datetime.datetime(2000, 4, 1),\n",
    "#                          datetime.datetime(2000, 7, 1)))\n",
    "#image1 = collection.median()\n",
    "#\n",
    "## Clip to the output image to the California state boundary.\n",
    "#fc = (ee.FeatureCollection('ft:1fRY18cjsHzDgGiJiS2nnpUU3v9JPDc2HNaR7Xk8')\n",
    "#      .filter(ee.Filter().eq('Name', 'California')))\n",
    "#image2 = image1.clipToCollection(fc)\n",
    "#\n",
    "## Select the red, green and blue bands.\n",
    "#image = image2.select('B3', 'B2', 'B1')\n",
    "#ee.mapclient.addToMap(image, {'gain': [1.4, 1.4, 1.1]})"
   ]
  },
  {
   "cell_type": "code",
   "execution_count": 27,
   "metadata": {
    "collapsed": false
   },
   "outputs": [
    {
     "ename": "NameError",
     "evalue": "name 'ui' is not defined",
     "output_type": "error",
     "traceback": [
      "\u001b[0;31m---------------------------------------------------------------------------\u001b[0m",
      "\u001b[0;31mNameError\u001b[0m                                 Traceback (most recent call last)",
      "\u001b[0;32m<ipython-input-27-f2fd78b5937f>\u001b[0m in \u001b[0;36m<module>\u001b[0;34m()\u001b[0m\n\u001b[1;32m      1\u001b[0m \u001b[0;34m\u001b[0m\u001b[0m\n\u001b[1;32m      2\u001b[0m \u001b[0;34m\u001b[0m\u001b[0m\n\u001b[0;32m----> 3\u001b[0;31m \u001b[0;32mprint\u001b[0m\u001b[0;34m(\u001b[0m\u001b[0mui\u001b[0m\u001b[0;34m.\u001b[0m\u001b[0mChart\u001b[0m\u001b[0;34m.\u001b[0m\u001b[0mimage\u001b[0m\u001b[0;34m.\u001b[0m\u001b[0mseries\u001b[0m\u001b[0;34m(\u001b[0m\u001b[0mnpp_minnesota\u001b[0m\u001b[0;34m,\u001b[0m \u001b[0mminnesota\u001b[0m\u001b[0;34m,\u001b[0m \u001b[0mee\u001b[0m\u001b[0;34m.\u001b[0m\u001b[0mReducer\u001b[0m\u001b[0;34m.\u001b[0m\u001b[0mmean\u001b[0m\u001b[0;34m(\u001b[0m\u001b[0;34m)\u001b[0m\u001b[0;34m,\u001b[0m \u001b[0;36m1000\u001b[0m\u001b[0;34m)\u001b[0m\u001b[0;34m)\u001b[0m\u001b[0;34m\u001b[0m\u001b[0m\n\u001b[0m\u001b[1;32m      4\u001b[0m \u001b[0;34m\u001b[0m\u001b[0m\n\u001b[1;32m      5\u001b[0m \u001b[0;31m# Calculate mean npp across all years in the collection (2000-2014)\u001b[0m\u001b[0;34m\u001b[0m\u001b[0;34m\u001b[0m\u001b[0m\n",
      "\u001b[0;31mNameError\u001b[0m: name 'ui' is not defined"
     ]
    }
   ],
   "source": [
    "\n",
    "\n",
    "print(ui.Chart.image.series(npp_minnesota, minnesota, ee.Reducer.mean(), 1000))\n",
    "\n",
    "# Calculate mean npp across all years in the collection (2000-2014)\n",
    "#var mean_npp_minnesota = npp_minnesota.reduce(ee.Reducer.mean());\n",
    "#print('Yearly npp in Minnesota', npp_minnesota);\n",
    "#print('Mean npp in Minnesota', mean_npp_minnesota);\n",
    "#Map.addLayer(mean_npp_minnesota);\n",
    "#Map.addLayer(mean_npp_minnesota, {min:300, max:10000});\n",
    "#Export.image.toDrive({\n",
    "#  image: mean_npp_minnesota,\n",
    "#  description: 'mean_npp_minnesota',\n",
    "#});"
   ]
  },
  {
   "cell_type": "code",
   "execution_count": null,
   "metadata": {
    "collapsed": true
   },
   "outputs": [],
   "source": [
    "npp_minnesota.get"
   ]
  }
 ],
 "metadata": {
  "kernelspec": {
   "display_name": "Python 2",
   "language": "python",
   "name": "python2"
  },
  "language_info": {
   "codemirror_mode": {
    "name": "ipython",
    "version": 2
   },
   "file_extension": ".py",
   "mimetype": "text/x-python",
   "name": "python",
   "nbconvert_exporter": "python",
   "pygments_lexer": "ipython2",
   "version": "2.7.11"
  }
 },
 "nbformat": 4,
 "nbformat_minor": 0
}
