{
 "cells": [
  {
   "cell_type": "code",
   "execution_count": 8,
   "metadata": {
    "collapsed": false
   },
   "outputs": [
    {
     "name": "stdout",
     "output_type": "stream",
     "text": [
      "2.7.11 |Anaconda custom (x86_64)| (default, Dec  6 2015, 18:57:58) \n",
      "[GCC 4.2.1 (Apple Inc. build 5577)]\n",
      "/Users/Eric/anaconda/envs/python27/bin/python\n",
      "0.1.80\n",
      "('Band names in Modis data:', [u'Gpp', u'Npp', u'Gpp_Npp_QC'])\n",
      "111319.490793\n",
      "EPSG:4326\n"
     ]
    }
   ],
   "source": [
    "# Check python version, and path of python executable\n",
    "import sys\n",
    "print(sys.version)\n",
    "print(sys.executable)\n",
    "\n",
    "# Import and load necessary libraries\n",
    "import ee as ee\n",
    "ee.Initialize()\n",
    "#import ee.mapclient\n",
    "import pandas as pd\n",
    "\n",
    "# Print earth engine version (this code works with ee version 0.1.80)\n",
    "print ee.__version__\n",
    "\n",
    "#Load datasets\n",
    "minnesota = ee.FeatureCollection('ft:1fRY18cjsHzDgGiJiS2nnpUU3v9JPDc2HNaR7Xk8').filterMetadata('Name', 'equals', 'Minnesota')\n",
    "modis = ee.ImageCollection('MODIS/055/MOD17A3')\n",
    "units = ee.FeatureCollection('ft:1gdhQYMZe31QgEbrmHArQUECKdVssmvR2tqhM03_i')\n",
    "\n",
    "# Print band names in Modis data\n",
    "print('Band names in Modis data:', ee.Image(modis.first()).bandNames().getInfo())\n",
    "\n",
    "# Select NPP band from Modis data, and clip with Minnesota shape\n",
    "npp = modis.select('Npp')\n",
    "def clipped(img):\n",
    "    return img.clip(minnesota)\n",
    "npp_minnesota = npp.map(clipped)\n",
    "\n",
    "# Select only a certain year from the data\n",
    "#year_map = npp_minnesota.filter(ee.Filter.calendarRange(2012, 2012, 'year'));\n",
    "\n",
    "# Calculate mean npp across all years in the collection (2000-2014)\n",
    "mean_npp_minnesota = npp_minnesota.reduce(ee.Reducer.mean())\n",
    "\n",
    "# Reproject mean npp. This is not necessary, but is here for reference\n",
    "#mean_npp_minnesota_utm15 = ee.Image(mean_npp_minnesota).reproject('EPSG:26915', None, 1000)\n",
    "#print(mean_npp_minnesota_utm15.projection().nominalScale().getInfo());\n",
    "#print(mean_npp_minnesota_utm15.projection().crs().getInfo());\n",
    "\n",
    "# Calculate bounds of the state of Minnesota, used for saving the image\n",
    "#minnesota_bounds = minnesota.geometry().bounds().getInfo()['coordinates'][0][0:4]\n",
    "#\n",
    "# We have two options for downloading mean NPP in Minnesota. We can either \n",
    "# save it to the Google drive, or create a download link. The Google \n",
    "# drive option seems to work more consistently, and includes nodata \n",
    "# pixels (as opposed to setting them to zero).\n",
    "# 1. Save to Google drive\n",
    "#task_config = {'description':'mean_npp_minnesota', \n",
    "#               'scale':1000, \n",
    "#               'crs':'EPSG:26915', \n",
    "#               'region': minnesota_bounds}\n",
    "#task = ee.batch.Export.image(ee.Image(mean_npp_minnesota), 'mean_npp_minnesota', task_config)\n",
    "#task.start()\n",
    "#\n",
    "# 2. Create download link\n",
    "#path_config = {'description':'mean_npp_minnesota', \n",
    "#    'scale': 100,\n",
    "#    'crs': 'EPSG:26915', \n",
    "#    'region': minnesota_bounds}\n",
    "#path = ee.Image(mean_npp_minnesota).getDownloadUrl(path_config)\n",
    "#print path\n",
    "\n",
    "# Calculate mean npp per unit\n",
    "mean_npp_unit = mean_npp_minnesota.reduceRegions(units, ee.Reducer.mean(), 1000)\n",
    "\n",
    "# Once again we have two options for downloading the ready data. \n",
    "# There is not so much difference between the two options.\n",
    "# 1. Save to Google drive\n",
    "#task_config = {'description': 'Mean_npp_per_unit', \n",
    "#                'fileFormat': 'csv'}\n",
    "#task = ee.batch.Export.table(mean_npp_unit, 'mean_npp_unit', task_config)\n",
    "#task.start()\n",
    "#\n",
    "# 2. Create download link\n",
    "path = mean_npp_unit.getDownloadURL('csv')\n",
    "\n",
    "# Read data \n",
    "df = pd.read_csv(path)\n",
    "df.rename(columns={'system:index': 'unit', 'mean': 'npp'}, inplace=True)\n",
    "df[[0, 2]].to_csv('../data/npp/mean_npp_unit.csv')"
   ]
  },
  {
   "cell_type": "code",
   "execution_count": null,
   "metadata": {
    "collapsed": true
   },
   "outputs": [],
   "source": []
  }
 ],
 "metadata": {
  "kernelspec": {
   "display_name": "Python 2",
   "language": "python",
   "name": "python2"
  },
  "language_info": {
   "codemirror_mode": {
    "name": "ipython",
    "version": 2
   },
   "file_extension": ".py",
   "mimetype": "text/x-python",
   "name": "python",
   "nbconvert_exporter": "python",
   "pygments_lexer": "ipython2",
   "version": "2.7.11"
  }
 },
 "nbformat": 4,
 "nbformat_minor": 0
}
